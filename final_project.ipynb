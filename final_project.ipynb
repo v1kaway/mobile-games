{
 "cells": [
  {
   "cell_type": "code",
   "execution_count": 1,
   "metadata": {},
   "outputs": [],
   "source": [
    "import pandas as pd\n",
    "import datetime\n",
    "from scipy import stats\n",
    "import numpy as np\n",
    "import seaborn as sns\n",
    "import matplotlib.pyplot as plt\n",
    "\n",
    "import warnings\n",
    "warnings.filterwarnings('ignore')"
   ]
  },
  {
   "cell_type": "markdown",
   "metadata": {},
   "source": [
    "# Задание 1"
   ]
  },
  {
   "cell_type": "markdown",
   "metadata": {},
   "source": [
    "Retention – один из самых важных показателей в компании. Задача – написать функцию, которая будет считать retention игроков (по дням от даты регистрации игрока)"
   ]
  },
  {
   "cell_type": "markdown",
   "metadata": {},
   "source": [
    "предварительный анализ данных"
   ]
  },
  {
   "cell_type": "code",
   "execution_count": 2,
   "metadata": {},
   "outputs": [
    {
     "name": "stdout",
     "output_type": "stream",
     "text": [
      "(1000000, 2)\n"
     ]
    },
    {
     "data": {
      "text/html": [
       "<div>\n",
       "<style scoped>\n",
       "    .dataframe tbody tr th:only-of-type {\n",
       "        vertical-align: middle;\n",
       "    }\n",
       "\n",
       "    .dataframe tbody tr th {\n",
       "        vertical-align: top;\n",
       "    }\n",
       "\n",
       "    .dataframe thead th {\n",
       "        text-align: right;\n",
       "    }\n",
       "</style>\n",
       "<table border=\"1\" class=\"dataframe\">\n",
       "  <thead>\n",
       "    <tr style=\"text-align: right;\">\n",
       "      <th></th>\n",
       "      <th>reg_ts</th>\n",
       "      <th>uid</th>\n",
       "    </tr>\n",
       "  </thead>\n",
       "  <tbody>\n",
       "    <tr>\n",
       "      <th>0</th>\n",
       "      <td>1998-11-18</td>\n",
       "      <td>1</td>\n",
       "    </tr>\n",
       "    <tr>\n",
       "      <th>1</th>\n",
       "      <td>1999-07-22</td>\n",
       "      <td>2</td>\n",
       "    </tr>\n",
       "    <tr>\n",
       "      <th>2</th>\n",
       "      <td>2000-01-13</td>\n",
       "      <td>3</td>\n",
       "    </tr>\n",
       "    <tr>\n",
       "      <th>3</th>\n",
       "      <td>2000-05-28</td>\n",
       "      <td>4</td>\n",
       "    </tr>\n",
       "    <tr>\n",
       "      <th>4</th>\n",
       "      <td>2000-09-16</td>\n",
       "      <td>5</td>\n",
       "    </tr>\n",
       "  </tbody>\n",
       "</table>\n",
       "</div>"
      ],
      "text/plain": [
       "      reg_ts  uid\n",
       "0 1998-11-18    1\n",
       "1 1999-07-22    2\n",
       "2 2000-01-13    3\n",
       "3 2000-05-28    4\n",
       "4 2000-09-16    5"
      ]
     },
     "execution_count": 2,
     "metadata": {},
     "output_type": "execute_result"
    }
   ],
   "source": [
    "reg = pd.read_csv('problem1-reg_data.csv', sep=';')  # читаем файл с регистрациями\n",
    "reg['reg_ts'] = pd.to_datetime(reg['reg_ts'], unit=\"s\").dt.date  # переводим дату к читаемому формату и убираем часы\n",
    "reg['reg_ts'] = pd.to_datetime(reg['reg_ts'])  # приводим дату к формату даты\n",
    "print(reg.shape)\n",
    "reg.head(5)"
   ]
  },
  {
   "cell_type": "code",
   "execution_count": 3,
   "metadata": {},
   "outputs": [
    {
     "name": "stdout",
     "output_type": "stream",
     "text": [
      "(9601013, 2)\n"
     ]
    },
    {
     "data": {
      "text/html": [
       "<div>\n",
       "<style scoped>\n",
       "    .dataframe tbody tr th:only-of-type {\n",
       "        vertical-align: middle;\n",
       "    }\n",
       "\n",
       "    .dataframe tbody tr th {\n",
       "        vertical-align: top;\n",
       "    }\n",
       "\n",
       "    .dataframe thead th {\n",
       "        text-align: right;\n",
       "    }\n",
       "</style>\n",
       "<table border=\"1\" class=\"dataframe\">\n",
       "  <thead>\n",
       "    <tr style=\"text-align: right;\">\n",
       "      <th></th>\n",
       "      <th>auth_ts</th>\n",
       "      <th>uid</th>\n",
       "    </tr>\n",
       "  </thead>\n",
       "  <tbody>\n",
       "    <tr>\n",
       "      <th>0</th>\n",
       "      <td>1998-11-18</td>\n",
       "      <td>1</td>\n",
       "    </tr>\n",
       "    <tr>\n",
       "      <th>1</th>\n",
       "      <td>1999-07-22</td>\n",
       "      <td>2</td>\n",
       "    </tr>\n",
       "    <tr>\n",
       "      <th>2</th>\n",
       "      <td>1999-07-25</td>\n",
       "      <td>2</td>\n",
       "    </tr>\n",
       "    <tr>\n",
       "      <th>3</th>\n",
       "      <td>1999-07-31</td>\n",
       "      <td>2</td>\n",
       "    </tr>\n",
       "    <tr>\n",
       "      <th>4</th>\n",
       "      <td>1999-08-05</td>\n",
       "      <td>2</td>\n",
       "    </tr>\n",
       "  </tbody>\n",
       "</table>\n",
       "</div>"
      ],
      "text/plain": [
       "     auth_ts  uid\n",
       "0 1998-11-18    1\n",
       "1 1999-07-22    2\n",
       "2 1999-07-25    2\n",
       "3 1999-07-31    2\n",
       "4 1999-08-05    2"
      ]
     },
     "execution_count": 3,
     "metadata": {},
     "output_type": "execute_result"
    }
   ],
   "source": [
    "auth = pd.read_csv('problem1-auth_data.csv', sep=';')  # читаем файл со входами\n",
    "auth['auth_ts'] = pd.to_datetime(auth['auth_ts'], unit=\"s\").dt.date  # переводим дату к читаемому формату и убираем часы\n",
    "auth['auth_ts'] = pd.to_datetime(auth['auth_ts'])  # приводим дату к формату даты\n",
    "print(auth.shape)\n",
    "auth.head(5)"
   ]
  },
  {
   "cell_type": "code",
   "execution_count": 4,
   "metadata": {},
   "outputs": [
    {
     "name": "stdout",
     "output_type": "stream",
     "text": [
      "reg_ts    0\n",
      "uid       0\n",
      "dtype: int64\n",
      "auth_ts    0\n",
      "uid        0\n",
      "dtype: int64\n"
     ]
    }
   ],
   "source": [
    "print(reg.isna().sum())\n",
    "print(auth.isna().sum())"
   ]
  },
  {
   "cell_type": "markdown",
   "metadata": {},
   "source": [
    "пропусков в данных нет"
   ]
  },
  {
   "cell_type": "code",
   "execution_count": 5,
   "metadata": {},
   "outputs": [
    {
     "name": "stdout",
     "output_type": "stream",
     "text": [
      "reg_ts       5110\n",
      "uid       1000000\n",
      "dtype: int64\n",
      "auth_ts       6169\n",
      "uid        1000000\n",
      "dtype: int64\n"
     ]
    }
   ],
   "source": [
    "print(reg.nunique())\n",
    "print(auth.nunique())"
   ]
  },
  {
   "cell_type": "markdown",
   "metadata": {},
   "source": [
    "в таблице входов находится столько же пользователей, что и в таблице регистраций"
   ]
  },
  {
   "cell_type": "code",
   "execution_count": 6,
   "metadata": {},
   "outputs": [
    {
     "name": "stdout",
     "output_type": "stream",
     "text": [
      "0\n",
      "0\n"
     ]
    }
   ],
   "source": [
    "print(len(reg) - len(reg.drop_duplicates()))\n",
    "print(len(auth) - len(auth.drop_duplicates()))"
   ]
  },
  {
   "cell_type": "markdown",
   "metadata": {},
   "source": [
    "дубликатов в данных нет"
   ]
  },
  {
   "cell_type": "markdown",
   "metadata": {},
   "source": [
    "После предварительного анализа данных можно сделать вывод, что данные корректны и их можно использовать для расчета retention"
   ]
  },
  {
   "cell_type": "code",
   "execution_count": 7,
   "metadata": {
    "scrolled": false
   },
   "outputs": [
    {
     "name": "stdout",
     "output_type": "stream",
     "text": [
      "Введите начальную дату в формате гггг-мм-дд 2020-05-08\n",
      "Введите количество дней 14\n"
     ]
    },
    {
     "data": {
      "image/png": "[encoded data removed]",
      "text/plain": [
       "<Figure size 1080x720 with 2 Axes>"
      ]
     },
     "metadata": {
      "needs_background": "light"
     },
     "output_type": "display_data"
    }
   ],
   "source": [
    "def retention(start=input(\"Введите начальную дату в формате гггг-мм-дд \"), delta=input(\"Введите количество дней \")):\n",
    "    try:\n",
    "        start = datetime.datetime.strptime(start, '%Y-%m-%d')\n",
    "    except ValueError:\n",
    "        start = 'x'\n",
    "    try:\n",
    "        delta = datetime.timedelta(days=int(delta))\n",
    "    except ValueError:\n",
    "        delta = 'x'\n",
    "    if start == 'x' or delta == 'x':\n",
    "        return print('что-то введено не так, проверьте формат')\n",
    "    elif start > datetime.datetime.now():\n",
    "        return print('кажется, этот день еще не наступил')\n",
    "    else:\n",
    "        \"\"\"читаем файл с регистрациями\"\"\"\n",
    "        reg = pd.read_csv('problem1-reg_data.csv', sep=';')\n",
    "        \"\"\"переводим дату к читаемому формату и убираем часы\"\"\"\n",
    "        reg['reg_ts'] = pd.to_datetime(reg['reg_ts'], unit=\"s\").dt.date\n",
    "        \"\"\"приводим дату к формату даты\"\"\"\n",
    "        reg['reg_ts'] = pd.to_datetime(reg['reg_ts']) \n",
    "        \n",
    "        if ~reg['reg_ts'].isin([start]).any():\n",
    "            return print('в этот день никто не зарегистрировался:(')\n",
    "        else:\n",
    "            \"\"\"считаем для каждой когорты количество пользователей\"\"\"\n",
    "            reg = reg.merge(reg.groupby(['reg_ts'], as_index=False) \n",
    "                               .agg({'uid': 'nunique'}) \n",
    "                               .rename(columns={'uid': 'пользователей в когорте'}),\n",
    "                            how='inner') \n",
    "\n",
    "            \"\"\"читаем файл со входами\"\"\"\n",
    "            auth = pd.read_csv('problem1-auth_data.csv', sep=';') \n",
    "            \"\"\"переводим дату к читаемому формату и убираем часы\"\"\"\n",
    "            auth['auth_ts'] = pd.to_datetime(auth['auth_ts'], unit=\"s\").dt.date \n",
    "            \"\"\"приводим дату к формату даты\"\"\"\n",
    "            auth['auth_ts'] = pd.to_datetime(auth['auth_ts']) \n",
    "\n",
    "            \"\"\"сводим все в одну табличку\"\"\"\n",
    "            df = auth.merge(reg, how='outer') \n",
    "            \"\"\"считаем количество дней между регистрацией\"\"\"\n",
    "            \"\"\"и повторным входом для каждого посещения каждого пользователя\"\"\"\n",
    "            df['delta'] = df.auth_ts - df.reg_ts \n",
    "            df['delta'] = df['delta'].dt.days\n",
    "            \n",
    "            \"\"\"считаем количество вернувшихся пользователей в каждой когорте\"\"\"\n",
    "            df_gr = df.groupby(['reg_ts', 'auth_ts', 'delta', 'пользователей в когорте'], as_index=False) \\\n",
    "                .agg({'uid': 'nunique'}) \\\n",
    "                .rename(columns={'uid': 'повторили вход'}) \n",
    "            \"\"\"считаем ретеншн\"\"\"\n",
    "            df_gr['retention'] = df_gr['повторили вход'] / df_gr['пользователей в когорте'] \n",
    "            \n",
    "            \"\"\"исключаем ретеншн нулевого дня и сортируем таблицу\"\"\"\n",
    "            df_gr = df_gr.query(\"delta != 0\").sort_values(['reg_ts', 'auth_ts'])\n",
    "            \n",
    "            \"\"\"фильтруем отобранные даты\"\"\"\n",
    "            end = start + delta\n",
    "            end\n",
    "            df_gr = df_gr.query(\"reg_ts >= @start & reg_ts <=@end & auth_ts <= @end\") \n",
    "            \"\"\"строим сводную таблицу\"\"\"\n",
    "            retent = df_gr.pivot(columns='delta', index='reg_ts', values='retention').fillna(0) \n",
    "            \n",
    "            \"\"\"рисуем график\"\"\"\n",
    "            plt.figure(figsize=(15, 10))\n",
    "            ax = sns.heatmap(retent, annot=True, fmt='.3f', cmap='Blues')\n",
    "            plt.xlabel('Период', size=16)\n",
    "            plt.ylabel('Когорта', size=16)\n",
    "            plt.title('Retention', size=18)\n",
    "            ax.set_yticklabels(ax.get_yticklabels(), rotation=0)\n",
    "\n",
    "            plt.show()\n",
    "        \n",
    "    \n",
    "retention()"
   ]
  },
  {
   "cell_type": "markdown",
   "metadata": {},
   "source": [
    "# Задание 2"
   ]
  },
  {
   "cell_type": "markdown",
   "metadata": {},
   "source": [
    "Имеются результаты A/B теста, в котором двум группам пользователей предлагались различные наборы акционных предложений. Известно, что ARPU в тестовой группе выше на 5%, чем в контрольной. При этом в контрольной группе 1928 игроков из 202103 оказались платящими, а в тестовой – 1805 из 202667.\n",
    "\n",
    "Какой набор предложений можно считать лучшим? Какие метрики стоит проанализировать для принятия правильного решения и как?"
   ]
  },
  {
   "cell_type": "code",
   "execution_count": 8,
   "metadata": {
    "scrolled": true
   },
   "outputs": [
    {
     "data": {
      "text/html": [
       "<div>\n",
       "<style scoped>\n",
       "    .dataframe tbody tr th:only-of-type {\n",
       "        vertical-align: middle;\n",
       "    }\n",
       "\n",
       "    .dataframe tbody tr th {\n",
       "        vertical-align: top;\n",
       "    }\n",
       "\n",
       "    .dataframe thead th {\n",
       "        text-align: right;\n",
       "    }\n",
       "</style>\n",
       "<table border=\"1\" class=\"dataframe\">\n",
       "  <thead>\n",
       "    <tr style=\"text-align: right;\">\n",
       "      <th></th>\n",
       "      <th>user_id</th>\n",
       "      <th>revenue</th>\n",
       "      <th>testgroup</th>\n",
       "    </tr>\n",
       "  </thead>\n",
       "  <tbody>\n",
       "    <tr>\n",
       "      <th>0</th>\n",
       "      <td>1</td>\n",
       "      <td>0</td>\n",
       "      <td>b</td>\n",
       "    </tr>\n",
       "    <tr>\n",
       "      <th>1</th>\n",
       "      <td>2</td>\n",
       "      <td>0</td>\n",
       "      <td>a</td>\n",
       "    </tr>\n",
       "    <tr>\n",
       "      <th>2</th>\n",
       "      <td>3</td>\n",
       "      <td>0</td>\n",
       "      <td>a</td>\n",
       "    </tr>\n",
       "    <tr>\n",
       "      <th>3</th>\n",
       "      <td>4</td>\n",
       "      <td>0</td>\n",
       "      <td>b</td>\n",
       "    </tr>\n",
       "    <tr>\n",
       "      <th>4</th>\n",
       "      <td>5</td>\n",
       "      <td>0</td>\n",
       "      <td>b</td>\n",
       "    </tr>\n",
       "  </tbody>\n",
       "</table>\n",
       "</div>"
      ],
      "text/plain": [
       "   user_id  revenue testgroup\n",
       "0        1        0         b\n",
       "1        2        0         a\n",
       "2        3        0         a\n",
       "3        4        0         b\n",
       "4        5        0         b"
      ]
     },
     "execution_count": 8,
     "metadata": {},
     "output_type": "execute_result"
    }
   ],
   "source": [
    "base_url = 'https://getfile.dokpub.com/yandex/get/'\n",
    "\n",
    "url_ab = 'https://disk.yandex.ru/d/SOkIsD5A8xlI7Q'\n",
    "\n",
    "d = pd.read_csv(base_url + url_ab, sep=';')\n",
    "d.head()"
   ]
  },
  {
   "cell_type": "markdown",
   "metadata": {},
   "source": [
    "проведем предварительный анализ данных"
   ]
  },
  {
   "cell_type": "code",
   "execution_count": 9,
   "metadata": {},
   "outputs": [
    {
     "data": {
      "text/plain": [
       "user_id      0\n",
       "revenue      0\n",
       "testgroup    0\n",
       "dtype: int64"
      ]
     },
     "execution_count": 9,
     "metadata": {},
     "output_type": "execute_result"
    }
   ],
   "source": [
    "d.isna().sum()"
   ]
  },
  {
   "cell_type": "markdown",
   "metadata": {},
   "source": [
    "пропусков в данных нет"
   ]
  },
  {
   "cell_type": "code",
   "execution_count": 10,
   "metadata": {},
   "outputs": [
    {
     "data": {
      "text/plain": [
       "0"
      ]
     },
     "execution_count": 10,
     "metadata": {},
     "output_type": "execute_result"
    }
   ],
   "source": [
    "len(d) - len(d.drop_duplicates(['user_id']))"
   ]
  },
  {
   "cell_type": "markdown",
   "metadata": {},
   "source": [
    "дубликатов в данных нет. Если бы они были, мы могли бы предположить, что данные записаны по транзакциям и тогда доход с одного пользователя необходимо просуммировать. Так же видим, что пользователи разбиты на группы, никто не попал в две разные группы одновременно. Можем считать, что данные корректны и переходить к анализу результатов теста"
   ]
  },
  {
   "cell_type": "markdown",
   "metadata": {},
   "source": [
    "проверим наши данные на нормальность"
   ]
  },
  {
   "cell_type": "markdown",
   "metadata": {},
   "source": [
    "H0 -- данные имеют нормальное распределение\n",
    "\n",
    "H1 -- иначе"
   ]
  },
  {
   "cell_type": "code",
   "execution_count": 11,
   "metadata": {},
   "outputs": [
    {
     "name": "stdout",
     "output_type": "stream",
     "text": [
      "NormaltestResult(statistic=585152.7312728433, pvalue=0.0)\n",
      "NormaltestResult(statistic=326622.39540856465, pvalue=0.0)\n"
     ]
    }
   ],
   "source": [
    "print(stats.normaltest(d.query(\"testgroup == 'a'\").revenue))\n",
    "print(stats.normaltest(d.query(\"testgroup == 'b'\").revenue))"
   ]
  },
  {
   "cell_type": "code",
   "execution_count": 12,
   "metadata": {
    "scrolled": true
   },
   "outputs": [
    {
     "data": {
      "text/plain": [
       "<matplotlib.axes._subplots.AxesSubplot at 0x7fc53e6db0f0>"
      ]
     },
     "execution_count": 12,
     "metadata": {},
     "output_type": "execute_result"
    },
    {
     "data": {
      "image/png": "[encoded data removed]",
      "text/plain": [
       "<Figure size 432x288 with 1 Axes>"
      ]
     },
     "metadata": {
      "needs_background": "light"
     },
     "output_type": "display_data"
    }
   ],
   "source": [
    "sns.distplot(d.query(\"testgroup == 'a'\").revenue)"
   ]
  },
  {
   "cell_type": "code",
   "execution_count": 13,
   "metadata": {},
   "outputs": [
    {
     "data": {
      "text/plain": [
       "<matplotlib.axes._subplots.AxesSubplot at 0x7fc538043ac8>"
      ]
     },
     "execution_count": 13,
     "metadata": {},
     "output_type": "execute_result"
    },
    {
     "data": {
      "image/png": "[encoded data removed]",
      "text/plain": [
       "<Figure size 432x288 with 1 Axes>"
      ]
     },
     "metadata": {
      "needs_background": "light"
     },
     "output_type": "display_data"
    }
   ],
   "source": [
    "sns.distplot(d.query(\"testgroup == 'b'\").revenue)"
   ]
  },
  {
   "cell_type": "markdown",
   "metadata": {},
   "source": [
    "p-value = 0, данные не имеют нормальное распределение, однако за счет объема выборок это условие не является обязательным, важно, чтобы были нормально распределены выборочные средние, при больших выборках это верно всегда."
   ]
  },
  {
   "cell_type": "markdown",
   "metadata": {},
   "source": [
    "тестируем равенство дисперсий"
   ]
  },
  {
   "cell_type": "markdown",
   "metadata": {},
   "source": [
    "H0 -- две группы имеют равные дисперсии\n",
    "\n",
    "H1 -- иначе"
   ]
  },
  {
   "cell_type": "code",
   "execution_count": 14,
   "metadata": {},
   "outputs": [
    {
     "data": {
      "text/plain": [
       "LeveneResult(statistic=0.3896289474701388, pvalue=0.5324948591043842)"
      ]
     },
     "execution_count": 14,
     "metadata": {},
     "output_type": "execute_result"
    }
   ],
   "source": [
    "stats.levene(d.query(\"testgroup == 'a'\").revenue, \n",
    "             d.query(\"testgroup == 'b'\").revenue)"
   ]
  },
  {
   "cell_type": "markdown",
   "metadata": {},
   "source": [
    "p-value = 0.53, не отвергаем нулевую гипотезу о равенстве дисперсий. Значит можем применять t-test для оценки равенства средних значений в выборках"
   ]
  },
  {
   "cell_type": "markdown",
   "metadata": {},
   "source": [
    "рассчитаем средний чек в каждой группе"
   ]
  },
  {
   "cell_type": "code",
   "execution_count": 15,
   "metadata": {},
   "outputs": [
    {
     "data": {
      "text/html": [
       "<div>\n",
       "<style scoped>\n",
       "    .dataframe tbody tr th:only-of-type {\n",
       "        vertical-align: middle;\n",
       "    }\n",
       "\n",
       "    .dataframe tbody tr th {\n",
       "        vertical-align: top;\n",
       "    }\n",
       "\n",
       "    .dataframe thead th {\n",
       "        text-align: right;\n",
       "    }\n",
       "</style>\n",
       "<table border=\"1\" class=\"dataframe\">\n",
       "  <thead>\n",
       "    <tr style=\"text-align: right;\">\n",
       "      <th></th>\n",
       "      <th>revenue</th>\n",
       "    </tr>\n",
       "    <tr>\n",
       "      <th>testgroup</th>\n",
       "      <th></th>\n",
       "    </tr>\n",
       "  </thead>\n",
       "  <tbody>\n",
       "    <tr>\n",
       "      <th>a</th>\n",
       "      <td>25.413720</td>\n",
       "    </tr>\n",
       "    <tr>\n",
       "      <th>b</th>\n",
       "      <td>26.751287</td>\n",
       "    </tr>\n",
       "  </tbody>\n",
       "</table>\n",
       "</div>"
      ],
      "text/plain": [
       "             revenue\n",
       "testgroup           \n",
       "a          25.413720\n",
       "b          26.751287"
      ]
     },
     "execution_count": 15,
     "metadata": {},
     "output_type": "execute_result"
    }
   ],
   "source": [
    "d.groupby('testgroup').agg({'revenue': 'mean'})"
   ]
  },
  {
   "cell_type": "markdown",
   "metadata": {},
   "source": [
    "рассчитаем средний чек среди платящих в каждой группе"
   ]
  },
  {
   "cell_type": "code",
   "execution_count": 16,
   "metadata": {},
   "outputs": [
    {
     "data": {
      "text/html": [
       "<div>\n",
       "<style scoped>\n",
       "    .dataframe tbody tr th:only-of-type {\n",
       "        vertical-align: middle;\n",
       "    }\n",
       "\n",
       "    .dataframe tbody tr th {\n",
       "        vertical-align: top;\n",
       "    }\n",
       "\n",
       "    .dataframe thead th {\n",
       "        text-align: right;\n",
       "    }\n",
       "</style>\n",
       "<table border=\"1\" class=\"dataframe\">\n",
       "  <thead>\n",
       "    <tr style=\"text-align: right;\">\n",
       "      <th></th>\n",
       "      <th>revenue</th>\n",
       "    </tr>\n",
       "    <tr>\n",
       "      <th>testgroup</th>\n",
       "      <th></th>\n",
       "    </tr>\n",
       "  </thead>\n",
       "  <tbody>\n",
       "    <tr>\n",
       "      <th>a</th>\n",
       "      <td>2663.998444</td>\n",
       "    </tr>\n",
       "    <tr>\n",
       "      <th>b</th>\n",
       "      <td>3003.658172</td>\n",
       "    </tr>\n",
       "  </tbody>\n",
       "</table>\n",
       "</div>"
      ],
      "text/plain": [
       "               revenue\n",
       "testgroup             \n",
       "a          2663.998444\n",
       "b          3003.658172"
      ]
     },
     "execution_count": 16,
     "metadata": {},
     "output_type": "execute_result"
    }
   ],
   "source": [
    "d.query(\"revenue > 0\").groupby('testgroup').agg({'revenue': 'mean'})"
   ]
  },
  {
   "cell_type": "markdown",
   "metadata": {},
   "source": [
    "в обоих случаях средний чек в группе b выше. Необходимо проверить, являются ли эти различия статистически значимыми"
   ]
  },
  {
   "cell_type": "markdown",
   "metadata": {},
   "source": [
    "H0 -- Средний чек для первого набора не отличается от среднего чека для второго набора\n",
    "\n",
    "H1 -- иначе"
   ]
  },
  {
   "cell_type": "code",
   "execution_count": 17,
   "metadata": {},
   "outputs": [
    {
     "data": {
      "text/plain": [
       "Ttest_indResult(statistic=-0.6242026493616787, pvalue=0.532494858971837)"
      ]
     },
     "execution_count": 17,
     "metadata": {},
     "output_type": "execute_result"
    }
   ],
   "source": [
    "stats.ttest_ind(d.query(\"testgroup == 'a'\").revenue, \n",
    "                d.query(\"testgroup == 'b'\").revenue)"
   ]
  },
  {
   "cell_type": "markdown",
   "metadata": {},
   "source": [
    "p-value = 0.53, на 5% уровне значимости не отвергаем гипотезу о равенстве математических ожиданий -> должны сделать вывод, что различия не значимы -> ARPU на одном уровне, нет лучшего варианта"
   ]
  },
  {
   "cell_type": "markdown",
   "metadata": {},
   "source": [
    "посмотрим так ли это для платящей аудитории"
   ]
  },
  {
   "cell_type": "code",
   "execution_count": 18,
   "metadata": {},
   "outputs": [
    {
     "data": {
      "text/plain": [
       "Ttest_indResult(statistic=-1.5917100176862002, pvalue=0.11153459157259504)"
      ]
     },
     "execution_count": 18,
     "metadata": {},
     "output_type": "execute_result"
    }
   ],
   "source": [
    "stats.ttest_ind(d.query(\"testgroup == 'a' & revenue > 0\").revenue, \n",
    "                d.query(\"testgroup == 'b' & revenue > 0\").revenue)"
   ]
  },
  {
   "cell_type": "markdown",
   "metadata": {},
   "source": [
    "p-value = 0.11, на 5% уровне значимости не отвергаем гипотезу о равенстве математических ожиданий -> должны сделать вывод, что различия не значимы -> ARPU на одном уровне, нет лучшего варианта"
   ]
  },
  {
   "cell_type": "markdown",
   "metadata": {},
   "source": [
    "посчитаем конверсию в покупку"
   ]
  },
  {
   "cell_type": "code",
   "execution_count": 19,
   "metadata": {},
   "outputs": [
    {
     "data": {
      "text/html": [
       "<div>\n",
       "<style scoped>\n",
       "    .dataframe tbody tr th:only-of-type {\n",
       "        vertical-align: middle;\n",
       "    }\n",
       "\n",
       "    .dataframe tbody tr th {\n",
       "        vertical-align: top;\n",
       "    }\n",
       "\n",
       "    .dataframe thead th {\n",
       "        text-align: right;\n",
       "    }\n",
       "</style>\n",
       "<table border=\"1\" class=\"dataframe\">\n",
       "  <thead>\n",
       "    <tr style=\"text-align: right;\">\n",
       "      <th></th>\n",
       "      <th>user_id</th>\n",
       "      <th>revenue</th>\n",
       "      <th>testgroup</th>\n",
       "      <th>purchase</th>\n",
       "    </tr>\n",
       "  </thead>\n",
       "  <tbody>\n",
       "    <tr>\n",
       "      <th>0</th>\n",
       "      <td>1</td>\n",
       "      <td>0</td>\n",
       "      <td>b</td>\n",
       "      <td>0</td>\n",
       "    </tr>\n",
       "    <tr>\n",
       "      <th>1</th>\n",
       "      <td>2</td>\n",
       "      <td>0</td>\n",
       "      <td>a</td>\n",
       "      <td>0</td>\n",
       "    </tr>\n",
       "    <tr>\n",
       "      <th>2</th>\n",
       "      <td>3</td>\n",
       "      <td>0</td>\n",
       "      <td>a</td>\n",
       "      <td>0</td>\n",
       "    </tr>\n",
       "    <tr>\n",
       "      <th>3</th>\n",
       "      <td>4</td>\n",
       "      <td>0</td>\n",
       "      <td>b</td>\n",
       "      <td>0</td>\n",
       "    </tr>\n",
       "    <tr>\n",
       "      <th>4</th>\n",
       "      <td>5</td>\n",
       "      <td>0</td>\n",
       "      <td>b</td>\n",
       "      <td>0</td>\n",
       "    </tr>\n",
       "    <tr>\n",
       "      <th>...</th>\n",
       "      <td>...</td>\n",
       "      <td>...</td>\n",
       "      <td>...</td>\n",
       "      <td>...</td>\n",
       "    </tr>\n",
       "    <tr>\n",
       "      <th>404765</th>\n",
       "      <td>404766</td>\n",
       "      <td>0</td>\n",
       "      <td>a</td>\n",
       "      <td>0</td>\n",
       "    </tr>\n",
       "    <tr>\n",
       "      <th>404766</th>\n",
       "      <td>404767</td>\n",
       "      <td>0</td>\n",
       "      <td>b</td>\n",
       "      <td>0</td>\n",
       "    </tr>\n",
       "    <tr>\n",
       "      <th>404767</th>\n",
       "      <td>404768</td>\n",
       "      <td>231</td>\n",
       "      <td>a</td>\n",
       "      <td>1</td>\n",
       "    </tr>\n",
       "    <tr>\n",
       "      <th>404768</th>\n",
       "      <td>404769</td>\n",
       "      <td>0</td>\n",
       "      <td>a</td>\n",
       "      <td>0</td>\n",
       "    </tr>\n",
       "    <tr>\n",
       "      <th>404769</th>\n",
       "      <td>404770</td>\n",
       "      <td>0</td>\n",
       "      <td>b</td>\n",
       "      <td>0</td>\n",
       "    </tr>\n",
       "  </tbody>\n",
       "</table>\n",
       "<p>404770 rows × 4 columns</p>\n",
       "</div>"
      ],
      "text/plain": [
       "        user_id  revenue testgroup  purchase\n",
       "0             1        0         b         0\n",
       "1             2        0         a         0\n",
       "2             3        0         a         0\n",
       "3             4        0         b         0\n",
       "4             5        0         b         0\n",
       "...         ...      ...       ...       ...\n",
       "404765   404766        0         a         0\n",
       "404766   404767        0         b         0\n",
       "404767   404768      231         a         1\n",
       "404768   404769        0         a         0\n",
       "404769   404770        0         b         0\n",
       "\n",
       "[404770 rows x 4 columns]"
      ]
     },
     "execution_count": 19,
     "metadata": {},
     "output_type": "execute_result"
    }
   ],
   "source": [
    "d['purchase'] = np.where(\n",
    "    d['revenue'] > 0, 1, 0)\n",
    "d"
   ]
  },
  {
   "cell_type": "code",
   "execution_count": 20,
   "metadata": {},
   "outputs": [
    {
     "data": {
      "text/html": [
       "<div>\n",
       "<style scoped>\n",
       "    .dataframe tbody tr th:only-of-type {\n",
       "        vertical-align: middle;\n",
       "    }\n",
       "\n",
       "    .dataframe tbody tr th {\n",
       "        vertical-align: top;\n",
       "    }\n",
       "\n",
       "    .dataframe thead th {\n",
       "        text-align: right;\n",
       "    }\n",
       "</style>\n",
       "<table border=\"1\" class=\"dataframe\">\n",
       "  <thead>\n",
       "    <tr style=\"text-align: right;\">\n",
       "      <th></th>\n",
       "      <th>purchase</th>\n",
       "    </tr>\n",
       "    <tr>\n",
       "      <th>testgroup</th>\n",
       "      <th></th>\n",
       "    </tr>\n",
       "  </thead>\n",
       "  <tbody>\n",
       "    <tr>\n",
       "      <th>a</th>\n",
       "      <td>0.009540</td>\n",
       "    </tr>\n",
       "    <tr>\n",
       "      <th>b</th>\n",
       "      <td>0.008906</td>\n",
       "    </tr>\n",
       "  </tbody>\n",
       "</table>\n",
       "</div>"
      ],
      "text/plain": [
       "           purchase\n",
       "testgroup          \n",
       "a          0.009540\n",
       "b          0.008906"
      ]
     },
     "execution_count": 20,
     "metadata": {},
     "output_type": "execute_result"
    }
   ],
   "source": [
    "d.groupby('testgroup').agg({'purchase': 'mean'})"
   ]
  },
  {
   "cell_type": "markdown",
   "metadata": {},
   "source": [
    "конверсия в покупку получилась выше в группе а, проверим можно ли считать это различие статистически значимым"
   ]
  },
  {
   "cell_type": "markdown",
   "metadata": {},
   "source": [
    "H0 -- Конверсия в покупку для первого набора не отличается от конверсии в покупку для второго набора\n",
    "\n",
    "H1 -- иначе"
   ]
  },
  {
   "cell_type": "code",
   "execution_count": 21,
   "metadata": {},
   "outputs": [
    {
     "data": {
      "text/plain": [
       "Ttest_indResult(statistic=2.1080348595227503, pvalue=0.03502858727991682)"
      ]
     },
     "execution_count": 21,
     "metadata": {},
     "output_type": "execute_result"
    }
   ],
   "source": [
    "stats.ttest_ind(d.query(\"testgroup == 'a'\").purchase,\n",
    "                d.query(\"testgroup == 'b'\").purchase)"
   ]
  },
  {
   "cell_type": "markdown",
   "metadata": {},
   "source": [
    "p-value = 0.35, на 5% уровне значимости отвергаем гипотезу о равенстве математических ожиданий -> должны сделать вывод, что первый набор лучше, поскольку дает бОльшую конверсию в покупку -> для привлечения платящих пользователей затрачивается меньше ресурсов (при этом помним, что ARPU не показал статистически значимых различий)."
   ]
  },
  {
   "cell_type": "markdown",
   "metadata": {},
   "source": [
    "таким образом стоит оставить текущее акционное предложение (набор a) и не предлагать пользователям второе предложение (набор b)"
   ]
  },
  {
   "cell_type": "markdown",
   "metadata": {},
   "source": [
    "# Задание 3"
   ]
  },
  {
   "cell_type": "markdown",
   "metadata": {},
   "source": [
    "В игре Plants & Gardens каждый месяц проводятся тематические события, ограниченные по времени. В них игроки могут получить уникальные предметы для сада и персонажей, дополнительные монеты или бонусы. Для получения награды требуется пройти ряд уровней за определенное время. С помощью каких метрик можно оценить результаты последнего прошедшего события?\n",
    "\n",
    "Предположим, в другом событии мы усложнили механику событий так, что при каждой неудачной попытке выполнения уровня игрок будет откатываться на несколько уровней назад. Изменится ли набор метрик оценки результата? Если да, то как?"
   ]
  },
  {
   "cell_type": "markdown",
   "metadata": {},
   "source": [
    "__________________________________________________________________________________________________"
   ]
  },
  {
   "cell_type": "markdown",
   "metadata": {},
   "source": [
    "Вовлеченность = количество игроков, принявших участие / количество активных игроков (например тех, кто играл в нашу игру в этом месяце)\n",
    "\n",
    "С помощью этого показателя мы поймем какой доле нашей аудитории было интересно тематическое событие\n"
   ]
  },
  {
   "cell_type": "markdown",
   "metadata": {},
   "source": [
    "Доходимость = количество игроков, прошедших событие / количество игроков, начавших прохождение события\n",
    "\n",
    "С помощью этого показателя мы сможем оценить сложность события, а так же то, насколько сохранился интерес пользователей к событию после того, как они попробовали принять участие в нем"
   ]
  },
  {
   "cell_type": "markdown",
   "metadata": {},
   "source": [
    "Скорее всего событие подразумевает набор более мелких заданий, за каждое из которых игрок может получить награду или % прохождения события, за которое игрок получает награду.\n",
    "В таком случае интересующей нас метрикой может быть\n",
    "среднее количество наград = количество полученных наград / количество игроков, начавших прохождение события"
   ]
  },
  {
   "cell_type": "markdown",
   "metadata": {},
   "source": [
    "Средний процент прохождения = сумма процентов прохождения всех принявших участие игроков / количество игроков, начавших прохождение события\n",
    "\n",
    "Уровень (процент прохождения), на котором чаще всего отваливались игроки = уровень(макс (количество игроков, которые после данного уровня не вернулись в событие))\n",
    "\n",
    "Эти метрики позволят оценить сложность события, чем ниже средний %, тем сложнее уровни в событии\n",
    "\n",
    "Уровень, на котором отвалилось больше всего игроков покажет самый сложный уровень в событии\n",
    "\n",
    "На основе этих показателей можно строить дальнейшие события, упрощая или усложняя уровни"
   ]
  },
  {
   "cell_type": "markdown",
   "metadata": {},
   "source": [
    "Метрики, прямо указывающие на доход:\n",
    "\n",
    "ARPU (средний чек)\n",
    "Доля платящих пользователей\n",
    "Суммарный доход за время события\n",
    "\n",
    "Данные метрики стоит рассматривать в динамике относительно прошедших событий, чтобы увидеть какое из них прошло более успешно, какое менее"
   ]
  },
  {
   "cell_type": "markdown",
   "metadata": {},
   "source": [
    "В целом, набор метрик не должен меняться от события к событию, чтобы мы могли их сравнивать между собой. В данном случае точно изменятся значения метрик, стоит ожидать, что доходимость станет меньше за счет откатов, кто-то просто не успеет дойти, кому-то надоест возвращаться назад. Чтобы подготовиться к таким моментам заранее, стоит продумать тонкости данной механики, например, что может сделать пользователь чтобы не откатываться назад? Возможно 1-2 бесплатные возможности повторить только проваленный уровень. Это позволит игроку не упасть в отчаяние от откатов и даст возможность нам получить доп. выручку за счет пользователей, которые будут готовы заплатить за отмену отката."
   ]
  }
 ],
 "metadata": {
  "kernelspec": {
   "display_name": "Python 3 (ipykernel)",
   "language": "python",
   "name": "python3"
  },
  "language_info": {
   "codemirror_mode": {
    "name": "ipython",
    "version": 3
   },
   "file_extension": ".py",
   "mimetype": "text/x-python",
   "name": "python",
   "nbconvert_exporter": "python",
   "pygments_lexer": "ipython3",
   "version": "3.9.7"
  }
 },
 "nbformat": 4,
 "nbformat_minor": 4
}
